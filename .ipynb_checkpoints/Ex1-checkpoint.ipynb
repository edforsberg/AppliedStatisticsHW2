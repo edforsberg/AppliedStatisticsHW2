{
 "cells": [
  {
   "cell_type": "code",
   "execution_count": 256,
   "metadata": {},
   "outputs": [
    {
     "data": {
      "text/plain": [
       "(103, 5)"
      ]
     },
     "execution_count": 256,
     "metadata": {},
     "output_type": "execute_result"
    }
   ],
   "source": [
    "import numpy as np\n",
    "from sklearn.decomposition import PCA\n",
    "from numpy import linalg as LA\n",
    "\n",
    "stocks = np.loadtxt( 'T8-4.DAT' )\n",
    "stocks = stocks\n",
    "stocks.shape"
   ]
  },
  {
   "cell_type": "code",
   "execution_count": 257,
   "metadata": {},
   "outputs": [
    {
     "name": "stdout",
     "output_type": "stream",
     "text": [
      "[-1.31150231e-01 -4.88793224e-02 -6.53844918e-02 -5.79604933e-02\n",
      "  1.77416903e-17]\n",
      "[-1.00985312e-01  4.44859215e-02 -2.49285583e-02  8.85311648e-02\n",
      "  1.77416903e-17]\n",
      "[-8.71925594e-02  3.27274362e-03  1.04173082e-01 -2.29171694e-02\n",
      "  1.77416903e-17]\n",
      "[ 1.50937529e-01  1.04363401e-01 -1.85874037e-02 -3.60616812e-02\n",
      "  1.77416903e-17]\n",
      "[ 1.68390573e-01 -1.03242744e-01  4.72737229e-03  2.84081791e-02\n",
      "  1.77416903e-17]\n"
     ]
    },
    {
     "data": {
      "text/plain": [
       "0.9026165845926907"
      ]
     },
     "execution_count": 257,
     "metadata": {},
     "output_type": "execute_result"
    }
   ],
   "source": [
    "# A\n",
    "S = np.cov(stocks)\n",
    "\n",
    "\n",
    "pca = PCA()\n",
    "pc_stocks = pca.fit_transform(stocks.transpose())\n",
    "#pc_stocks = [pc/LA.norm(pc) for pc in pc_stocks]\n",
    "for i,pc in enumerate(pc_stocks): \n",
    "    #print(\"The \" + str(i+1) +\"th principal component is\")\n",
    "    print(pc_stocks[i])\n",
    "   #print(LA.norm(pc_stocks[i]))\n",
    "\n",
    "expl_var1 = sum(pca.explained_variance_ratio_[0:3])\n",
    "expl_var1\n",
    "#S.shape"
   ]
  },
  {
   "cell_type": "code",
   "execution_count": 259,
   "metadata": {},
   "outputs": [
    {
     "data": {
      "text/plain": [
       "array([[ 4.97753546e-04, -3.29640521e-05, -9.99956629e-05, ...,\n",
       "         2.32877756e-04,  2.91676743e-05, -9.05076284e-05],\n",
       "       [-3.29640521e-05,  7.98855125e-05, -6.00291954e-05, ...,\n",
       "        -7.29370956e-05, -4.37865743e-05,  2.12494184e-05],\n",
       "       [-9.99956629e-05, -6.00291954e-05,  1.07835739e-04, ...,\n",
       "        -1.56878318e-05, -1.20976778e-05, -9.73834515e-06],\n",
       "       ...,\n",
       "       [ 2.32877756e-04, -7.29370956e-05, -1.56878318e-05, ...,\n",
       "         2.35464533e-04,  1.06271916e-04, -5.22047554e-05],\n",
       "       [ 2.91676743e-05, -4.37865743e-05, -1.20976778e-05, ...,\n",
       "         1.06271916e-04,  1.00577177e-04,  3.21880295e-06],\n",
       "       [-9.05076284e-05,  2.12494184e-05, -9.73834515e-06, ...,\n",
       "        -5.22047554e-05,  3.21880295e-06,  2.74033321e-05]])"
      ]
     },
     "execution_count": 259,
     "metadata": {},
     "output_type": "execute_result"
    }
   ],
   "source": [
    "# B\n",
    "eigenValues, eigenVectors = LA.eig(S)\n",
    "\n",
    "idx = eigenValues.argsort()[::-1]   \n",
    "eigenValues = eigenValues[idx]\n",
    "eigenVectors = eigenVectors[:,idx]\n",
    "\n",
    "expl_var2 = sum(eigenValues[0:3])/np.matrix.trace(S)\n",
    "\n",
    "expl_var2\n",
    "\n",
    "#norm1 = w / np.linalg.norm(w[0])\n",
    "\n",
    "\n",
    "S"
   ]
  }
 ],
 "metadata": {
  "kernelspec": {
   "display_name": "Python 3",
   "language": "python",
   "name": "python3"
  },
  "language_info": {
   "codemirror_mode": {
    "name": "ipython",
    "version": 3
   },
   "file_extension": ".py",
   "mimetype": "text/x-python",
   "name": "python",
   "nbconvert_exporter": "python",
   "pygments_lexer": "ipython3",
   "version": "3.7.3"
  }
 },
 "nbformat": 4,
 "nbformat_minor": 2
}
