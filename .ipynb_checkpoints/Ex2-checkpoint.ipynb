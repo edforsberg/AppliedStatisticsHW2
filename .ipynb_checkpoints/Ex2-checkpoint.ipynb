{
 "cells": [
  {
   "cell_type": "code",
   "execution_count": 34,
   "metadata": {},
   "outputs": [],
   "source": [
    "import numpy as np\n",
    "from sklearn.decomposition import PCA\n",
    "from numpy import linalg as LA\n",
    "import matplotlib.pyplot as plt\n",
    "\n",
    "data = np.loadtxt( 'T1-5.DAT' )\n",
    "data = data.transpose()"
   ]
  },
  {
   "cell_type": "code",
   "execution_count": 24,
   "metadata": {},
   "outputs": [
    {
     "name": "stdout",
     "output_type": "stream",
     "text": [
      "The variance explained by the first 3 pc is 87.29480010184083%.\n",
      "The variance explained by the first 3 pc is 62.68652408562423%.\n"
     ]
    }
   ],
   "source": [
    "S_cov = np.cov(data)\n",
    "row_sums = data.sum(axis=0)\n",
    "data_corr = data / row_sums\n",
    "S_corr = np.cov(data_corr)\n",
    "\n",
    "eigenValues_cov, eigenVectors_cov = LA.eig(S_cov)\n",
    "idx_cov = eigenValues_cov.argsort()[::-1]   \n",
    "eigenValues_cov = eigenValues_cov[idx_cov]\n",
    "eigenVectors_cov = eigenVectors_cov[:,idx_cov]\n",
    "expl_var_cov = sum(eigenValues_cov[0:3])/np.matrix.trace(S_cov)\n",
    "\n",
    "eigenValues_corr, eigenVectors_corr = LA.eig(S_corr)\n",
    "idx_corr = eigenValues_corr.argsort()[::-1]   \n",
    "eigenValues_corr = eigenValues_corr[idx_corr]\n",
    "eigenVectors_cov = eigenVectors_corr[:,idx_corr]\n",
    "expl_var_corr = sum(eigenValues_corr[0:3])/np.matrix.trace(S_corr)\n",
    "\n",
    "#print(\"The variance explained by the first 3 pc is \" + str(expl_var_cov*100)+\"%.\")\n",
    "#print(\"The variance explained by the first 3 pc is \" + str(expl_var_corr*100)+\"%.\")\n",
    "\n",
    "print(\"Explained variance correlation\")\n",
    "explained_var_corr = [sum(eigenValues_corr[0:i])/np.matrix.trace(S_corr) for i in range(7)]\n",
    "explained_var_cov = [sum(eigenValues_cov[0:i])/np.matrix.trace(S_cov) for i in range(7)]\n",
    "for i in range(7):\n",
    "    "
   ]
  },
  {
   "cell_type": "code",
   "execution_count": 38,
   "metadata": {},
   "outputs": [
    {
     "data": {
      "image/png": "[encoded data removed]",
      "text/plain": [
       "<Figure size 432x288 with 1 Axes>"
      ]
     },
     "metadata": {
      "needs_background": "light"
     },
     "output_type": "display_data"
    }
   ],
   "source": [
    "varr_expl_cov = []\n",
    "varr_expl_corr = []\n",
    "nr_of_pc = list(range(1,7))\n",
    "\n",
    "for i in range(6): \n",
    "    varr_expl_cov.append(sum(eigenValues_cov[0:i]))\n",
    "    varr_expl_corr.append(sum(eigenValues_corr[0:i]))\n",
    "\n",
    "names = ['corr', 'cov']\n",
    "                          \n",
    "# plot with various axes scales\n",
    "plt.figure()\n",
    "\n",
    "# linear\n",
    "plt.subplot(1,1,1)\n",
    "plt.plot(nr_of_pc, varr_expl_cov)\n",
    "plt.yscale('linear')\n",
    "plt.title('linear')\n",
    "plt.grid(True)\n",
    "\n",
    "\n",
    "# log\n",
    "plt.subplot(2,1,1)\n",
    "plt.plot(nr_of_pc, varr_expl_corr)\n",
    "plt.yscale('log')\n",
    "plt.title('log')\n",
    "plt.grid(True)\n",
    "       "
   ]
  },
  {
   "cell_type": "code",
   "execution_count": null,
   "metadata": {},
   "outputs": [],
   "source": []
  },
  {
   "cell_type": "code",
   "execution_count": 29,
   "metadata": {},
   "outputs": [
    {
     "data": {
      "text/plain": [
       "[1, 2, 3, 4, 5, 6]"
      ]
     },
     "execution_count": 29,
     "metadata": {},
     "output_type": "execute_result"
    }
   ],
   "source": [
    "nr_of_pc = list(range(1,7))\n",
    "nr_of_pc"
   ]
  }
 ],
 "metadata": {
  "kernelspec": {
   "display_name": "Python 3",
   "language": "python",
   "name": "python3"
  },
  "language_info": {
   "codemirror_mode": {
    "name": "ipython",
    "version": 3
   },
   "file_extension": ".py",
   "mimetype": "text/x-python",
   "name": "python",
   "nbconvert_exporter": "python",
   "pygments_lexer": "ipython3",
   "version": "3.7.3"
  }
 },
 "nbformat": 4,
 "nbformat_minor": 2
}
