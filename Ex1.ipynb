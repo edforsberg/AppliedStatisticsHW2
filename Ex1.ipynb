{
 "cells": [
  {
   "cell_type": "code",
   "execution_count": 256,
   "metadata": {},
   "outputs": [
    {
     "data": {
      "text/plain": [
       "(103, 5)"
      ]
     },
     "execution_count": 256,
     "metadata": {},
     "output_type": "execute_result"
    }
   ],
   "source": [
    "import numpy as np\n",
    "from sklearn.decomposition import PCA\n",
    "from numpy import linalg as LA\n",
    "\n",
    "stocks = np.loadtxt( 'T8-4.DAT' )\n",
    "stocks = stocks\n",
    "stocks.shape"
   ]
  },
  {
   "cell_type": "code",
   "execution_count": 321,
   "metadata": {},
   "outputs": [
    {
     "name": "stdout",
     "output_type": "stream",
     "text": [
      "The 1th principal component is\n",
      "[ 0.60753709  0.24803731  0.74839753 -0.02902622 -0.09184111]\n",
      "The 2th principal component is\n",
      "[-0.72295646  0.26546277 -0.0114496   0.11225131 -0.62779935]\n",
      "The 3th principal component is\n",
      "[ 0.59405813 -0.39567605 -0.32321977 -0.47361773  0.40218234]\n",
      "The 4th principal component is\n",
      "[ 0.51450498  0.63604439  0.4850611  -0.00606369  0.30888692]\n",
      "The 5th principal component is\n",
      "[-0.87489342 -0.30271729  0.22324466  0.22863646 -0.20201717]\n",
      "The 6th principal component is\n",
      "[-0.09603161 -0.33936507 -0.0156215   0.92883658  0.11237377]\n",
      "The 7th principal component is\n",
      "[-0.70261312  0.44604602 -0.53438076  0.012544   -0.14716521]\n",
      "The 8th principal component is\n",
      "[-0.29910307  0.59740582  0.33816682  0.50205704  0.43269569]\n",
      "The 9th principal component is\n",
      "[ 0.83402468 -0.38011139  0.08482968 -0.36967597 -0.12673503]\n",
      "The 10th principal component is\n",
      "[ 0.61093689  0.4519145  -0.04669779 -0.33124033 -0.55734061]\n"
     ]
    }
   ],
   "source": [
    "# A\n",
    "S = np.cov(stocks.transpose())\n",
    "\n",
    "pca = PCA()\n",
    "pc_stocks = pca.fit_transform(stocks)\n",
    "pc_stocks = [pc/LA.norm(pc) for pc in pc_stocks]\n",
    "for i in range(10): \n",
    "    print(\"The \" + str(i+1) +\"th principal component is\")\n",
    "    print(pc_stocks[i])\n",
    " \n"
   ]
  },
  {
   "cell_type": "code",
   "execution_count": 324,
   "metadata": {},
   "outputs": [
    {
     "name": "stdout",
     "output_type": "stream",
     "text": [
      "The variance explained by the first 3 pc is 89.88094845492047%.\n",
      "0.898809484549204\n"
     ]
    }
   ],
   "source": [
    "# B\n",
    "eigenValues, eigenVectors = LA.eig(S)\n",
    "\n",
    "idx = eigenValues.argsort()[::-1]   \n",
    "eigenValues = eigenValues[idx]\n",
    "eigenVectors = eigenVectors[:,idx]\n",
    "\n",
    "expl_var_pca = sum(pca.explained_variance_ratio_[0:3])\n",
    "expl_var_cov = sum(eigenValues[0:3])/np.matrix.trace(S)\n",
    "\n",
    "print(\"The variance explained by the first 3 pc is \" + str(expl_var_cov*100)+\"%.\")\n",
    "print(expl_var_pca)"
   ]
  },
  {
   "cell_type": "code",
   "execution_count": 323,
   "metadata": {},
   "outputs": [
    {
     "name": "stdout",
     "output_type": "stream",
     "text": [
      "[ 0.60753709  0.24803731  0.74839753 -0.02902622 -0.09184111]\n",
      "[-0.72295646  0.26546277 -0.0114496   0.11225131 -0.62779935]\n",
      "[ 0.59405813 -0.39567605 -0.32321977 -0.47361773  0.40218234]\n"
     ]
    }
   ],
   "source": [
    "# B \n",
    "for i in range(3): \n",
    "    print(pc_stocks[i])"
   ]
  }
 ],
 "metadata": {
  "kernelspec": {
   "display_name": "Python 3",
   "language": "python",
   "name": "python3"
  },
  "language_info": {
   "codemirror_mode": {
    "name": "ipython",
    "version": 3
   },
   "file_extension": ".py",
   "mimetype": "text/x-python",
   "name": "python",
   "nbconvert_exporter": "python",
   "pygments_lexer": "ipython3",
   "version": "3.7.3"
  }
 },
 "nbformat": 4,
 "nbformat_minor": 2
}
