{
 "cells": [
  {
   "cell_type": "code",
   "execution_count": 7,
   "metadata": {},
   "outputs": [
    {
     "data": {
      "text/plain": [
       "(5, 103)"
      ]
     },
     "execution_count": 7,
     "metadata": {},
     "output_type": "execute_result"
    }
   ],
   "source": [
    "import numpy as np\n",
    "from sklearn.decomposition import PCA\n",
    "from numpy import linalg as LA\n",
    "\n",
    "stocks = np.loadtxt( 'T8-4.DAT' )\n",
    "stocks = stocks.transpose()\n",
    "stocks.shape"
   ]
  },
  {
   "cell_type": "code",
   "execution_count": 64,
   "metadata": {},
   "outputs": [
    {
     "name": "stdout",
     "output_type": "stream",
     "text": [
      "The 1th principal component is\n",
      "[-0.44685894 -0.34408014 -0.29708507  0.51427881  0.57374534]\n",
      "The 2th principal component is\n",
      "[-0.30354746  0.27626382  0.0203242   0.64811138 -0.64115194]\n",
      "The 3th principal component is\n",
      "[-0.51503917 -0.19636436  0.82058017 -0.14641455  0.03723791]\n",
      "The 4th principal component is\n",
      "[-0.4928597   0.75281352 -0.19487324 -0.30664593  0.24156535]\n",
      "The 5th principal component is\n",
      "[0.4472136 0.4472136 0.4472136 0.4472136 0.4472136]\n"
     ]
    }
   ],
   "source": [
    "# A\n",
    "S = np.cov(stocks)\n",
    "\n",
    "pca = PCA()\n",
    "pc_stocks = pca.fit_transform(stocks)\n",
    "pc_stocks = pc_stocks.transpose()\n",
    "pc_stocks = [pc/LA.norm(pc) for pc in pc_stocks]\n",
    "for i in range(5): \n",
    "    print(\"The \" + str(i+1) +\"th principal component is\")\n",
    "    print(pc_stocks[i])\n",
    " \n"
   ]
  },
  {
   "cell_type": "code",
   "execution_count": 71,
   "metadata": {},
   "outputs": [
    {
     "name": "stdout",
     "output_type": "stream",
     "text": [
      "[[-0.46908321  0.36800696  0.60431522  0.36302278 -0.3841216 ]\n",
      " [-0.53240549  0.23646236  0.13610618 -0.6292079   0.49618794]\n",
      " [-0.46516333  0.3151795  -0.7718281   0.28896583 -0.07116948]\n",
      " [-0.38734594 -0.58503725 -0.09336192 -0.38125151 -0.59466408]\n",
      " [-0.36068206 -0.60584628  0.10882629  0.49341454  0.49755167]]\n",
      "0.8689597060661909\n"
     ]
    }
   ],
   "source": [
    "# B\n",
    "S = np.corrcoef(stocks)\n",
    "\n",
    "eigenValues, eigenVectors = LA.eigh(S)\n",
    "\n",
    "\n",
    "idx = eigenValues.argsort()[::-1]   \n",
    "eigenValues = eigenValues[idx]\n",
    "eigenVectors = eigenVectors[:,idx]\n",
    "##eigenValues = eigenValues.reverse()\n",
    "\n",
    "\n",
    "expl_var_pca = sum(pca.explained_variance_ratio_[2:4])\n",
    "expl_var_cov = sum(eigenValues[0:3])/np.matrix.trace(S)\n",
    "\n",
    "print(eigenVectors)\n",
    "print(expl_var_cov)"
   ]
  },
  {
   "cell_type": "code",
   "execution_count": 62,
   "metadata": {},
   "outputs": [
    {
     "name": "stdout",
     "output_type": "stream",
     "text": [
      "[-0.44685894 -0.34408014 -0.29708507  0.51427881  0.57374534]\n",
      "[-0.30354746  0.27626382  0.0203242   0.64811138 -0.64115194]\n",
      "[-0.51503917 -0.19636436  0.82058017 -0.14641455  0.03723791]\n"
     ]
    }
   ],
   "source": [
    "# B \n",
    "for i in range(3): \n",
    "    print(pc_stocks[i])"
   ]
  }
 ],
 "metadata": {
  "kernelspec": {
   "display_name": "Python 3",
   "language": "python",
   "name": "python3"
  },
  "language_info": {
   "codemirror_mode": {
    "name": "ipython",
    "version": 3
   },
   "file_extension": ".py",
   "mimetype": "text/x-python",
   "name": "python",
   "nbconvert_exporter": "python",
   "pygments_lexer": "ipython3",
   "version": "3.7.3"
  }
 },
 "nbformat": 4,
 "nbformat_minor": 2
}
