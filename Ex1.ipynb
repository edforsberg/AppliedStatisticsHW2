{
 "cells": [
  {
   "cell_type": "code",
   "execution_count": 52,
   "metadata": {},
   "outputs": [
    {
     "data": {
      "text/plain": [
       "(5, 103)"
      ]
     },
     "execution_count": 52,
     "metadata": {},
     "output_type": "execute_result"
    }
   ],
   "source": [
    "import numpy as np\n",
    "from sklearn.decomposition import PCA\n",
    "from numpy import linalg as LA\n",
    "\n",
    "stocks = np.loadtxt( 'T8-4.DAT' )\n",
    "stocks = stocks.transpose()\n",
    "stocks.shape"
   ]
  },
  {
   "cell_type": "code",
   "execution_count": 57,
   "metadata": {},
   "outputs": [
    {
     "name": "stdout",
     "output_type": "stream",
     "text": [
      "The 1th principal component is\n",
      "[-1.31150231e-01 -4.88793224e-02 -6.53844918e-02 -5.79604933e-02\n",
      "  1.77416903e-17]\n",
      "The 2th principal component is\n",
      "[-1.00985312e-01  4.44859215e-02 -2.49285583e-02  8.85311648e-02\n",
      "  1.77416903e-17]\n",
      "The 3th principal component is\n",
      "[-8.71925594e-02  3.27274362e-03  1.04173082e-01 -2.29171694e-02\n",
      "  1.77416903e-17]\n",
      "The 4th principal component is\n",
      "[ 1.50937529e-01  1.04363401e-01 -1.85874037e-02 -3.60616812e-02\n",
      "  1.77416903e-17]\n",
      "The 5th principal component is\n",
      "[ 1.68390573e-01 -1.03242744e-01  4.72737229e-03  2.84081791e-02\n",
      "  1.77416903e-17]\n"
     ]
    }
   ],
   "source": [
    "# A\n",
    "S = np.cov(stocks)\n",
    "S\n",
    "pca = PCA(n_components=5)\n",
    "pc_stocks = pca.fit_transform(stocks)\n",
    "for i,pc in enumerate(pc_stocks): \n",
    "    print(\"The \" + str(i+1) +\"th principal component is\")\n",
    "    print(pc_stocks[i])"
   ]
  },
  {
   "cell_type": "code",
   "execution_count": 59,
   "metadata": {},
   "outputs": [
    {
     "data": {
      "text/plain": [
       "array([[ 0.22282283,  0.62522603, -0.32611218, -0.662759  ,  0.11765952],\n",
       "       [ 0.30728997,  0.57039003,  0.24959014,  0.4140935 , -0.58860803],\n",
       "       [ 0.1548103 ,  0.34450492,  0.03763929,  0.49704993,  0.78030428],\n",
       "       [ 0.63896798, -0.24794753,  0.64249741, -0.30886888,  0.14845546],\n",
       "       [ 0.65090441, -0.32184779, -0.64586064,  0.21637575, -0.09371777]])"
      ]
     },
     "execution_count": 59,
     "metadata": {},
     "output_type": "execute_result"
    }
   ],
   "source": [
    "# B\n",
    "\n",
    "w, v = LA.eig(S)\n",
    "v\n",
    "\n"
   ]
  }
 ],
 "metadata": {
  "kernelspec": {
   "display_name": "Python 3",
   "language": "python",
   "name": "python3"
  },
  "language_info": {
   "codemirror_mode": {
    "name": "ipython",
    "version": 3
   },
   "file_extension": ".py",
   "mimetype": "text/x-python",
   "name": "python",
   "nbconvert_exporter": "python",
   "pygments_lexer": "ipython3",
   "version": "3.7.3"
  }
 },
 "nbformat": 4,
 "nbformat_minor": 2
}
